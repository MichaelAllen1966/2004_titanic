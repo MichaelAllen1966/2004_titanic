{
 "cells": [
  {
   "cell_type": "markdown",
   "metadata": {},
   "source": [
    "# Kaggle Titanic survival - TensorFlow extra functionality\n",
    "\n",
    "In this example we show extra TensorFlow/Keras functionality, inlcuding\n",
    "\n",
    "* Changing class weights, e.g. to increase weight of minroty class(es)\n",
    "* Saving model checkpoints while training (and only saving models with improved validation accuracy)\n",
    "* Early stop of model (when no improvement)\n",
    "* Getting model weights\n",
    "* Saving and reloading model"
   ]
  },
  {
   "cell_type": "code",
   "execution_count": 1,
   "metadata": {},
   "outputs": [],
   "source": [
    "# Turn warnings off to keep notebook tidy\n",
    "import warnings\n",
    "warnings.filterwarnings(\"ignore\")"
   ]
  },
  {
   "cell_type": "markdown",
   "metadata": {},
   "source": [
    "## Load modules"
   ]
  },
  {
   "cell_type": "code",
   "execution_count": 2,
   "metadata": {},
   "outputs": [],
   "source": [
    "import numpy as np\n",
    "import pandas as pd\n",
    "\n",
    "# sklearn for pre-processing\n",
    "from sklearn.preprocessing import MinMaxScaler\n",
    "from sklearn.model_selection import StratifiedKFold\n",
    "\n",
    "# TensorFlow api model\n",
    "from tensorflow import keras\n",
    "from tensorflow.keras import layers\n",
    "from tensorflow.keras.models import Model\n",
    "from tensorflow.keras.optimizers import Adam\n",
    "from tensorflow.keras import backend as K\n",
    "from tensorflow.keras.losses import binary_crossentropy"
   ]
  },
  {
   "cell_type": "markdown",
   "metadata": {},
   "source": [
    "## Download data if not previously downloaded"
   ]
  },
  {
   "cell_type": "code",
   "execution_count": 3,
   "metadata": {},
   "outputs": [],
   "source": [
    "download_required = False\n",
    "\n",
    "if download_required:\n",
    "    \n",
    "    # Download processed data:\n",
    "    address = 'https://raw.githubusercontent.com/MichaelAllen1966/' + \\\n",
    "                '1804_python_healthcare/master/titanic/data/processed_data.csv'\n",
    "    \n",
    "    data = pd.read_csv(address)\n",
    "\n",
    "    # Create a data subfolder if one does not already exist\n",
    "    import os\n",
    "    data_directory ='./data/'\n",
    "    if not os.path.exists(data_directory):\n",
    "        os.makedirs(data_directory)\n",
    "\n",
    "    # Save data\n",
    "    data.to_csv(data_directory + 'processed_data.csv', index=False)"
   ]
  },
  {
   "cell_type": "markdown",
   "metadata": {},
   "source": [
    "## Define function to scale data\n",
    "\n",
    "In neural networks it is common to to scale input data 0-1 rather than use standardisation (subtracting mean and dividing by standard deviation) of each feature)."
   ]
  },
  {
   "cell_type": "code",
   "execution_count": 4,
   "metadata": {},
   "outputs": [],
   "source": [
    "def scale_data(X_train, X_test):\n",
    "    \"\"\"Scale data 0-1 based on min and max in training set\"\"\"\n",
    "    \n",
    "    # Initialise a new scaling object for normalising input data\n",
    "    sc = MinMaxScaler()\n",
    "\n",
    "    # Set up the scaler just on the training set\n",
    "    sc.fit(X_train)\n",
    "\n",
    "    # Apply the scaler to the training and test sets\n",
    "    train_sc = sc.transform(X_train)\n",
    "    test_sc = sc.transform(X_test)\n",
    "    \n",
    "    return train_sc, test_sc\n",
    "    "
   ]
  },
  {
   "cell_type": "markdown",
   "metadata": {},
   "source": [
    "## Load data"
   ]
  },
  {
   "cell_type": "code",
   "execution_count": 5,
   "metadata": {},
   "outputs": [],
   "source": [
    "data = pd.read_csv('data/processed_data.csv')\n",
    "# Make all data 'float' type\n",
    "data = data.astype(float)\n",
    "data.drop('PassengerId', inplace=True, axis=1)\n",
    "X = data.drop('Survived',axis=1) # X = all 'data' except the 'survived' column\n",
    "y = data['Survived'] # y = 'survived' column from 'data'\n",
    "# Convert to NumPy as required for k-fold splits\n",
    "X_np = X.values\n",
    "y_np = y.values"
   ]
  },
  {
   "cell_type": "markdown",
   "metadata": {},
   "source": [
    "# Set up neural net\n",
    "\n",
    "Here we use the api-based method to set up a TensorFlow neural network. This method allows us\n",
    "to more flexibly define the inputs for each layer, rather than assuming there is a simple sequence as with the Sequential method.\n",
    "\n",
    "We will put construction of the neural net into a separate function.\n",
    "\n",
    "The neural net is a relatively simple network. The inputs are connected to two hidden layers (of 240 and 50 nodes) before being connected to two output nodes corresponding to each class (died and survived). It also contains some useful additions (batch normalisation and dropout) as described below.\n",
    "The layers of the network are:\n",
    "\n",
    "1) An input layer (which does need to be defined)\n",
    "\n",
    "2) A fully-connected (dense) layer.This is defined by the number of inputs (the number of input features) and the number of outputs. We will expand out feature data set up to 240 outputs. The output of the layer uses ReLU (rectified linear unit) activation. ReLU activation is most common for the inner layers of a neural network. Negative input values are set to zero. Positive input values are left unchanged.\n",
    "\n",
    "3) A batch normalisation layer. This is not usually used for small models, but can increase the speed of training for larger models. It is added here as an example of how to include it (in large models all dense layers would be followed by a batch normalisation layer). The layer definition includes the number of inputs to normalise. \n",
    "\n",
    "4) A dropout layer. This layer randomly sets outputs from the preceding layer to zero during training (a different set of outputs is zeroed for each training iteration). This helps prevent over-fitting of the model to the training data. Typically between 0.1 and 0.3 outputs are set to zero (p=0.1 means 10% of outputs are set to zero).\n",
    "\n",
    "5) A second fully connected layer which reduces the network down to 50 nodes. This again uses ReLU activation and is followed by batch normalisation, and dropout layers.\n",
    "\n",
    "6) A final fully connected linear layer of one nodes (more nodes could be used for more classes, in which case use softmax activation and categorical_crossentropy in the loss function). The output of the net is the probability of surviving (usually a probability of >= 0.5 will be classes as ‘survived’)."
   ]
  },
  {
   "cell_type": "code",
   "execution_count": 6,
   "metadata": {},
   "outputs": [],
   "source": [
    "def make_net(number_features, learning_rate=0.003):\n",
    "    \n",
    "    # Clear Tensorflow\n",
    "    K.clear_session()\n",
    "    \n",
    "    # Define layers\n",
    "    inputs = layers.Input(shape=number_features)\n",
    "    dense_1 = layers.Dense(240, activation='relu')(inputs)\n",
    "    norm_1 = layers.BatchNormalization()(dense_1)\n",
    "    dropout_1 = layers.Dropout(0.25)(norm_1)\n",
    "    dense_2 = layers.Dense(50, activation='relu')(dropout_1)\n",
    "    outputs = layers.Dense(1, activation='sigmoid')(dense_2)\n",
    "    net = Model(inputs, outputs)\n",
    "    \n",
    "    # Compiling model\n",
    "    opt = Adam(lr=learning_rate)\n",
    "    net.compile(loss='binary_crossentropy',\n",
    "    optimizer=opt,\n",
    "    metrics=['accuracy'])\n",
    "    return net"
   ]
  },
  {
   "cell_type": "markdown",
   "metadata": {},
   "source": [
    "## Show summary of the model structure\n",
    "\n",
    "Here we will create a model with 10 input features and show the structure of the model as  atable and as a graph."
   ]
  },
  {
   "cell_type": "code",
   "execution_count": 7,
   "metadata": {},
   "outputs": [
    {
     "name": "stdout",
     "output_type": "stream",
     "text": [
      "Model: \"model\"\n",
      "_________________________________________________________________\n",
      "Layer (type)                 Output Shape              Param #   \n",
      "=================================================================\n",
      "input_1 (InputLayer)         [(None, 10)]              0         \n",
      "_________________________________________________________________\n",
      "dense (Dense)                (None, 240)               2640      \n",
      "_________________________________________________________________\n",
      "batch_normalization (BatchNo (None, 240)               960       \n",
      "_________________________________________________________________\n",
      "dropout (Dropout)            (None, 240)               0         \n",
      "_________________________________________________________________\n",
      "dense_1 (Dense)              (None, 50)                12050     \n",
      "_________________________________________________________________\n",
      "dense_2 (Dense)              (None, 1)                 51        \n",
      "=================================================================\n",
      "Total params: 15,701\n",
      "Trainable params: 15,221\n",
      "Non-trainable params: 480\n",
      "_________________________________________________________________\n"
     ]
    }
   ],
   "source": [
    "model = make_net(10)\n",
    "model.summary()"
   ]
  },
  {
   "cell_type": "code",
   "execution_count": 8,
   "metadata": {},
   "outputs": [
    {
     "name": "stdout",
     "output_type": "stream",
     "text": [
      "Failed to import pydot. You must install pydot and graphviz for `pydotprint` to work.\n"
     ]
    }
   ],
   "source": [
    "# If necessary pip or conda install pydot and graphviz\n",
    "keras.utils.plot_model(model, \"titanic_tf_model.png\", show_shapes=True)"
   ]
  },
  {
   "cell_type": "markdown",
   "metadata": {},
   "source": [
    "## Set dictionary of weights according to class distribution\n",
    "\n",
    "Here we will create a dictionary of class weights, in inverse proportion to how frequently a class occurs (to less frequent classes will be given more weight in model)."
   ]
  },
  {
   "cell_type": "code",
   "execution_count": 9,
   "metadata": {},
   "outputs": [],
   "source": [
    "# Get proportion of each class\n",
    "prop_class_1 = y.mean()\n",
    "prop_class_0 = 1 - prop_class_1\n",
    "\n",
    "# Set weights in inverse propotion to occurance\n",
    "weight_class_0 = 1 / prop_class_0\n",
    "weight_class_1 = 1 / prop_class_1\n",
    "\n",
    "# Create dictionary of class weight\n",
    "class_weights = {0: weight_class_0, 1: weight_class_1}"
   ]
  },
  {
   "cell_type": "markdown",
   "metadata": {},
   "source": [
    "## Train model\n",
    "\n",
    "TensorFlow can track the history of training, enabling us to examine performance against training and test sets over time. Here we will use the same model as above, but without k-fold validation and with history tracking."
   ]
  },
  {
   "cell_type": "code",
   "execution_count": 10,
   "metadata": {},
   "outputs": [],
   "source": [
    "from sklearn.model_selection import train_test_split\n",
    "\n",
    "# Split into training and test sets\n",
    "X_train, X_test, y_train, y_test = train_test_split(\n",
    "    X_np, y_np, test_size = 0.25)\n",
    "\n",
    "# Scale data\n",
    "X_train_sc, X_test_sc = scale_data(X_train, X_test)\n",
    "\n",
    "# Define network\n",
    "number_features = X_train_sc.shape[1]\n",
    "model = make_net(number_features)\n",
    "\n",
    "# Define save checkpoint callback (only save if new best validation results)\n",
    "checkpoint_cb = keras.callbacks.ModelCheckpoint('model_checkpoint.h5',\n",
    "                                                save_best_only=True)\n",
    "\n",
    "# Define early stopping callback\n",
    "# Stop when no validation improvement for 25 epochs)\n",
    "# Restore weights to best validation accuracy\n",
    "early_stopping_cb = keras.callbacks.EarlyStopping(patience=25,\n",
    "                                                  restore_best_weights=True)\n",
    "\n",
    "# Train model (including class weights)\n",
    "history = model.fit(X_train_sc,\n",
    "                    y_train,\n",
    "                    class_weight = class_weights,\n",
    "                    epochs=250,\n",
    "                    batch_size=64,\n",
    "                    validation_data=(X_test_sc, y_test),\n",
    "                    verbose=0,\n",
    "                    callbacks=[checkpoint_cb, early_stopping_cb])\n",
    "\n",
    "# Custom callbacks may also be defined. \n",
    "# These may run on training start/end, on epoch start/end, or bacth start/end.\n",
    "# For more on callbacks, see: https://keras.io/callbacks/\n",
    "\n",
    "# Reload model with model = keras.models.load_model('model_name.h5')"
   ]
  },
  {
   "cell_type": "markdown",
   "metadata": {},
   "source": [
    "`history` is a dictionary containing data collected during training. Let's take a look at the keys in this dictionary (these are the metrics monitored during training):"
   ]
  },
  {
   "cell_type": "code",
   "execution_count": 11,
   "metadata": {},
   "outputs": [
    {
     "data": {
      "text/plain": [
       "dict_keys(['loss', 'accuracy', 'val_loss', 'val_accuracy'])"
      ]
     },
     "execution_count": 11,
     "metadata": {},
     "output_type": "execute_result"
    }
   ],
   "source": [
    "history_dict = history.history\n",
    "history_dict.keys()"
   ]
  },
  {
   "cell_type": "markdown",
   "metadata": {},
   "source": [
    "Plot training history:"
   ]
  },
  {
   "cell_type": "code",
   "execution_count": 12,
   "metadata": {},
   "outputs": [
    {
     "data": {
      "image/png": "[encoded data removed]",
      "text/plain": [
       "<Figure size 432x288 with 1 Axes>"
      ]
     },
     "metadata": {
      "needs_background": "light"
     },
     "output_type": "display_data"
    }
   ],
   "source": [
    "import matplotlib.pyplot as plt\n",
    "%matplotlib inline\n",
    "\n",
    "acc_values = history_dict['accuracy']\n",
    "val_acc_values = history_dict['val_accuracy']\n",
    "epochs = range(1, len(acc_values) + 1)\n",
    "\n",
    "plt.plot(epochs, acc_values, 'bo', label='Training acc')\n",
    "plt.plot(epochs, val_acc_values, 'b', label='Test accuracy')\n",
    "plt.title('Training and validation accuracy')\n",
    "plt.xlabel('Epochs')\n",
    "plt.ylabel('Accuracy')\n",
    "plt.legend()\n",
    "\n",
    "plt.show()"
   ]
  },
  {
   "cell_type": "markdown",
   "metadata": {},
   "source": [
    "## Getting model weights\n",
    "\n",
    "Here we show how weights for a layer can be extracted from the model if required."
   ]
  },
  {
   "cell_type": "code",
   "execution_count": 13,
   "metadata": {},
   "outputs": [
    {
     "data": {
      "text/plain": [
       "'dense'"
      ]
     },
     "execution_count": 13,
     "metadata": {},
     "output_type": "execute_result"
    }
   ],
   "source": [
    "hidden1 = model.layers[1]\n",
    "hidden1.name"
   ]
  },
  {
   "cell_type": "code",
   "execution_count": 14,
   "metadata": {},
   "outputs": [
    {
     "data": {
      "text/plain": [
       "(24, 240)"
      ]
     },
     "execution_count": 14,
     "metadata": {},
     "output_type": "execute_result"
    }
   ],
   "source": [
    "weights, biases = hidden1.get_weights() # Biases are not used in this model\n",
    "weights.shape"
   ]
  },
  {
   "cell_type": "code",
   "execution_count": 15,
   "metadata": {},
   "outputs": [
    {
     "data": {
      "text/plain": [
       "array([[-0.20691274, -0.04134414, -0.14232744, ..., -0.0862477 ,\n",
       "        -0.02537705,  0.16282684],\n",
       "       [ 0.03651549,  0.07785683,  0.16066788, ...,  0.10276425,\n",
       "        -0.01006183,  0.10828337],\n",
       "       [-0.12800577, -0.20757954,  0.20015521, ..., -0.10519829,\n",
       "         0.27143994,  0.15554675],\n",
       "       ...,\n",
       "       [-0.1007871 ,  0.10932019, -0.1204503 , ..., -0.08273935,\n",
       "         0.11991702, -0.05237492],\n",
       "       [-0.08653226, -0.05844051, -0.05299798, ...,  0.03449053,\n",
       "        -0.12564263,  0.01561596],\n",
       "       [ 0.06437416,  0.06118134,  0.07234894, ..., -0.00523203,\n",
       "         0.01612496,  0.0817467 ]], dtype=float32)"
      ]
     },
     "execution_count": 15,
     "metadata": {},
     "output_type": "execute_result"
    }
   ],
   "source": [
    "weights"
   ]
  },
  {
   "cell_type": "markdown",
   "metadata": {},
   "source": [
    "## Saving and reloading model"
   ]
  },
  {
   "cell_type": "code",
   "execution_count": 16,
   "metadata": {},
   "outputs": [],
   "source": [
    "# Save model\n",
    "model.save('titanic_tf_model.h5')\n",
    "\n",
    "# Load and use saved model\n",
    "restored_model = keras.models.load_model('titanic_tf_model.h5')\n",
    " \n",
    "# Predict classes\n",
    "predicted_proba = restored_model.predict(X_test_sc)"
   ]
  },
  {
   "cell_type": "code",
   "execution_count": 17,
   "metadata": {},
   "outputs": [
    {
     "data": {
      "text/plain": [
       "array([[0.18083051],\n",
       "       [0.23567605],\n",
       "       [0.51023173],\n",
       "       [0.9041929 ],\n",
       "       [0.6910032 ],\n",
       "       [0.23699723],\n",
       "       [0.2500319 ],\n",
       "       [0.22979249],\n",
       "       [0.25084984],\n",
       "       [0.23805909]], dtype=float32)"
      ]
     },
     "execution_count": 17,
     "metadata": {},
     "output_type": "execute_result"
    }
   ],
   "source": [
    "predicted_proba[:10]"
   ]
  },
  {
   "cell_type": "markdown",
   "metadata": {},
   "source": [
    "## Custom callbacks\n",
    "\n",
    "Callbacks can be called at various points:\n",
    "\n",
    "* `on_train_begin()`\n",
    "* `on_train_end()`\n",
    "* `on_epoch_begin()`\n",
    "* `on_epoch_end()`\n",
    "* `on_batch_begin()`\n",
    "* `on_batch_end()`\n",
    "\n",
    "For evaluation (called by `evaluate()` there is:\n",
    "\n",
    "* `on_test_begin()`\n",
    "* `on_test_end()`\n",
    "* `on_test_batch_begin()`\n",
    "* `on_test_batch_end()`\n",
    "\n",
    "For prediction (called by `predict()` there is:\n",
    "\n",
    "* `on_predict_begin()`\n",
    "* `on_predict_end()`\n",
    "* `on_predict_batch_begin()`\n",
    "* `on_predict_batch_end()`\n",
    "\n",
    "Here we will implement a callback that prints the ratio of validation to training loss."
   ]
  },
  {
   "cell_type": "code",
   "execution_count": 18,
   "metadata": {},
   "outputs": [],
   "source": [
    "class PrintValTrainRatioCallback(keras.callbacks.Callback):\n",
    "    def on_epoch_end(self, epoch, logs):\n",
    "        ratio = logs['val_loss'] / logs['loss']\n",
    "        print (f' Val/Train: {ratio:.2f}')\n",
    "        \n",
    "checkpoint_ratio = PrintValTrainRatioCallback()"
   ]
  },
  {
   "cell_type": "markdown",
   "metadata": {},
   "source": [
    "Now when we fit the model (using verbose fit to print progress). We see the val/train ratio"
   ]
  },
  {
   "cell_type": "code",
   "execution_count": 19,
   "metadata": {},
   "outputs": [
    {
     "name": "stdout",
     "output_type": "stream",
     "text": [
      "Epoch 1/100\n",
      " 1/11 [=>............................] - ETA: 0s - loss: 0.4263 - accuracy: 0.9219 Val/Train: 0.72\n",
      "11/11 [==============================] - 0s 8ms/step - loss: 0.6554 - accuracy: 0.8757 - val_loss: 0.4722 - val_accuracy: 0.8027\n",
      "Epoch 2/100\n",
      " 1/11 [=>............................] - ETA: 0s - loss: 0.6090 - accuracy: 0.8438 Val/Train: 0.68\n",
      "11/11 [==============================] - 0s 9ms/step - loss: 0.6850 - accuracy: 0.8548 - val_loss: 0.4654 - val_accuracy: 0.8072\n",
      "Epoch 3/100\n",
      " 1/11 [=>............................] - ETA: 0s - loss: 0.8022 - accuracy: 0.8750 Val/Train: 0.69\n",
      "11/11 [==============================] - 0s 7ms/step - loss: 0.6755 - accuracy: 0.8772 - val_loss: 0.4679 - val_accuracy: 0.8296\n",
      "Epoch 4/100\n",
      " 1/11 [=>............................] - ETA: 0s - loss: 0.5245 - accuracy: 0.8906 Val/Train: 0.72\n",
      "11/11 [==============================] - 0s 7ms/step - loss: 0.6680 - accuracy: 0.8608 - val_loss: 0.4840 - val_accuracy: 0.7982\n",
      "Epoch 5/100\n",
      " 1/11 [=>............................] - ETA: 0s - loss: 0.6015 - accuracy: 0.9062 Val/Train: 0.76\n",
      "11/11 [==============================] - 0s 8ms/step - loss: 0.6368 - accuracy: 0.8817 - val_loss: 0.4844 - val_accuracy: 0.7982\n",
      "Epoch 6/100\n",
      " 1/11 [=>............................] - ETA: 0s - loss: 0.5704 - accuracy: 0.8906 Val/Train: 0.70\n",
      "11/11 [==============================] - 0s 8ms/step - loss: 0.6719 - accuracy: 0.8638 - val_loss: 0.4688 - val_accuracy: 0.8072\n",
      "Epoch 7/100\n",
      " 1/11 [=>............................] - ETA: 0s - loss: 0.6809 - accuracy: 0.8438 Val/Train: 0.72\n",
      "11/11 [==============================] - 0s 7ms/step - loss: 0.6949 - accuracy: 0.8713 - val_loss: 0.5017 - val_accuracy: 0.7803\n",
      "Epoch 8/100\n",
      " 1/11 [=>............................] - ETA: 0s - loss: 0.6428 - accuracy: 0.8906 Val/Train: 0.75\n",
      "11/11 [==============================] - 0s 7ms/step - loss: 0.6697 - accuracy: 0.8668 - val_loss: 0.5042 - val_accuracy: 0.7848\n",
      "Epoch 9/100\n",
      " 1/11 [=>............................] - ETA: 0s - loss: 0.8156 - accuracy: 0.8594 Val/Train: 0.71\n",
      "11/11 [==============================] - 0s 7ms/step - loss: 0.6811 - accuracy: 0.8713 - val_loss: 0.4812 - val_accuracy: 0.8161\n",
      "Epoch 10/100\n",
      " 1/11 [=>............................] - ETA: 0s - loss: 0.4248 - accuracy: 0.9531 Val/Train: 0.77\n",
      "11/11 [==============================] - 0s 8ms/step - loss: 0.6684 - accuracy: 0.8653 - val_loss: 0.5134 - val_accuracy: 0.7758\n",
      "Epoch 11/100\n",
      " 1/11 [=>............................] - ETA: 0s - loss: 0.6089 - accuracy: 0.8594 Val/Train: 0.82\n",
      "11/11 [==============================] - 0s 7ms/step - loss: 0.6349 - accuracy: 0.8713 - val_loss: 0.5210 - val_accuracy: 0.7668\n",
      "Epoch 12/100\n",
      " 1/11 [=>............................] - ETA: 0s - loss: 0.3374 - accuracy: 0.9375 Val/Train: 0.81\n",
      "11/11 [==============================] - 0s 7ms/step - loss: 0.6723 - accuracy: 0.8608 - val_loss: 0.5430 - val_accuracy: 0.7848\n",
      "Epoch 13/100\n",
      " 1/11 [=>............................] - ETA: 0s - loss: 0.7344 - accuracy: 0.8281 Val/Train: 0.77\n",
      "11/11 [==============================] - 0s 7ms/step - loss: 0.6879 - accuracy: 0.8683 - val_loss: 0.5321 - val_accuracy: 0.7803\n",
      "Epoch 14/100\n",
      " 1/11 [=>............................] - ETA: 0s - loss: 0.6274 - accuracy: 0.8594 Val/Train: 0.82\n",
      "11/11 [==============================] - 0s 6ms/step - loss: 0.6538 - accuracy: 0.8683 - val_loss: 0.5330 - val_accuracy: 0.7848\n",
      "Epoch 15/100\n",
      " 1/11 [=>............................] - ETA: 0s - loss: 0.5929 - accuracy: 0.8594 Val/Train: 0.82\n",
      "11/11 [==============================] - 0s 7ms/step - loss: 0.6138 - accuracy: 0.8817 - val_loss: 0.5060 - val_accuracy: 0.8072\n",
      "Epoch 16/100\n",
      " 1/11 [=>............................] - ETA: 0s - loss: 0.5679 - accuracy: 0.9062 Val/Train: 0.80\n",
      "11/11 [==============================] - 0s 7ms/step - loss: 0.6518 - accuracy: 0.8757 - val_loss: 0.5216 - val_accuracy: 0.7982\n",
      "Epoch 17/100\n",
      " 1/11 [=>............................] - ETA: 0s - loss: 0.4890 - accuracy: 0.8906 Val/Train: 0.85\n",
      "11/11 [==============================] - 0s 8ms/step - loss: 0.6251 - accuracy: 0.8787 - val_loss: 0.5310 - val_accuracy: 0.7982\n",
      "Epoch 18/100\n",
      " 1/11 [=>............................] - ETA: 0s - loss: 0.9630 - accuracy: 0.8281 Val/Train: 0.87\n",
      "11/11 [==============================] - 0s 7ms/step - loss: 0.6483 - accuracy: 0.8743 - val_loss: 0.5666 - val_accuracy: 0.7892\n",
      "Epoch 19/100\n",
      " 1/11 [=>............................] - ETA: 0s - loss: 0.5854 - accuracy: 0.8906 Val/Train: 0.91\n",
      "11/11 [==============================] - 0s 7ms/step - loss: 0.6227 - accuracy: 0.8847 - val_loss: 0.5653 - val_accuracy: 0.7982\n",
      "Epoch 20/100\n",
      " 1/11 [=>............................] - ETA: 0s - loss: 0.5711 - accuracy: 0.8906 Val/Train: 0.80\n",
      "11/11 [==============================] - 0s 7ms/step - loss: 0.6590 - accuracy: 0.8787 - val_loss: 0.5242 - val_accuracy: 0.8027\n",
      "Epoch 21/100\n",
      " 1/11 [=>............................] - ETA: 0s - loss: 0.6548 - accuracy: 0.8750 Val/Train: 0.86\n",
      "11/11 [==============================] - 0s 7ms/step - loss: 0.6212 - accuracy: 0.8743 - val_loss: 0.5356 - val_accuracy: 0.7982\n",
      "Epoch 22/100\n",
      " 1/11 [=>............................] - ETA: 0s - loss: 0.8379 - accuracy: 0.8438 Val/Train: 1.00\n",
      "11/11 [==============================] - 0s 6ms/step - loss: 0.6065 - accuracy: 0.8862 - val_loss: 0.6076 - val_accuracy: 0.7892\n",
      "Epoch 23/100\n",
      " 1/11 [=>............................] - ETA: 0s - loss: 0.5398 - accuracy: 0.9375 Val/Train: 0.94\n",
      "11/11 [==============================] - 0s 8ms/step - loss: 0.6342 - accuracy: 0.8713 - val_loss: 0.5946 - val_accuracy: 0.7892\n",
      "Epoch 24/100\n",
      " 1/11 [=>............................] - ETA: 0s - loss: 0.7473 - accuracy: 0.8125 Val/Train: 0.86\n",
      "11/11 [==============================] - 0s 7ms/step - loss: 0.6265 - accuracy: 0.8772 - val_loss: 0.5394 - val_accuracy: 0.7668\n",
      "Epoch 25/100\n",
      " 1/11 [=>............................] - ETA: 0s - loss: 0.6818 - accuracy: 0.8281 Val/Train: 0.95\n",
      "11/11 [==============================] - 0s 7ms/step - loss: 0.6154 - accuracy: 0.8757 - val_loss: 0.5849 - val_accuracy: 0.7937\n",
      "Epoch 26/100\n",
      " 1/11 [=>............................] - ETA: 0s - loss: 0.7137 - accuracy: 0.8750 Val/Train: 1.02\n",
      "11/11 [==============================] - 0s 7ms/step - loss: 0.6102 - accuracy: 0.8892 - val_loss: 0.6228 - val_accuracy: 0.7848\n",
      "Epoch 27/100\n",
      " 1/11 [=>............................] - ETA: 0s - loss: 0.7640 - accuracy: 0.8438 Val/Train: 1.01\n",
      "11/11 [==============================] - 0s 8ms/step - loss: 0.6088 - accuracy: 0.8802 - val_loss: 0.6139 - val_accuracy: 0.7982\n"
     ]
    }
   ],
   "source": [
    "# Train model (including class weights)\n",
    "history = model.fit(X_train_sc,\n",
    "                    y_train,\n",
    "                    class_weight = class_weights,\n",
    "                    epochs=100,\n",
    "                    batch_size=64,\n",
    "                    validation_data=(X_test_sc, y_test),\n",
    "                    verbose=1,\n",
    "                    callbacks=[\n",
    "                        checkpoint_cb, early_stopping_cb, checkpoint_ratio])"
   ]
  }
 ],
 "metadata": {
  "kernelspec": {
   "display_name": "Python 3",
   "language": "python",
   "name": "python3"
  },
  "language_info": {
   "codemirror_mode": {
    "name": "ipython",
    "version": 3
   },
   "file_extension": ".py",
   "mimetype": "text/x-python",
   "name": "python",
   "nbconvert_exporter": "python",
   "pygments_lexer": "ipython3",
   "version": "3.7.6"
  }
 },
 "nbformat": 4,
 "nbformat_minor": 4
}
